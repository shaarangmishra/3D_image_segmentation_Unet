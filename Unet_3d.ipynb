{
  "nbformat": 4,
  "nbformat_minor": 0,
  "metadata": {
    "colab": {
      "name": "Unet_3d.ipynb",
      "provenance": [],
      "collapsed_sections": []
    },
    "kernelspec": {
      "name": "python3",
      "display_name": "Python 3"
    },
    "accelerator": "GPU"
  },
  "cells": [
    {
      "cell_type": "code",
      "metadata": {
        "colab": {
          "base_uri": "https://localhost:8080/"
        },
        "id": "6nAZQaZSsWV5",
        "outputId": "3f8d349a-04da-4fee-8c06-a81125e50700"
      },
      "source": [
        "import torch\n",
        "print(torch.__version__)\n",
        "import torch.nn as nn\n",
        "import torch.nn.functional as F\n",
        "import torch.optim as optim\n",
        "import scipy.io\n",
        "import matplotlib.pyplot as plt\n",
        "import numpy as np\n",
        "import nibabel as nib\n",
        "import os\n",
        "import torchvision\n",
        "from torchvision import datasets, models, transforms\n",
        "from torch.utils.data import DataLoader,Dataset\n",
        "from tqdm import tqdm_notebook as tqdm"
      ],
      "execution_count": null,
      "outputs": [
        {
          "output_type": "stream",
          "text": [
            "1.8.1+cu101\n"
          ],
          "name": "stdout"
        }
      ]
    },
    {
      "cell_type": "code",
      "metadata": {
        "id": "uxLfXD24s-7E"
      },
      "source": [
        "data_dir = '/content/drive/MyDrive/Resampled_data'\n",
        "\n",
        "image_1 = 'DU01_image_r.nii'\n",
        "label_1 = 'DU01_label_r.nii'\n",
        "image_2 = 'DU06_images_r.nii'\n",
        "label_2 = 'DU06_labels_r.nii' \n",
        "image_3 = 'patient2_left_image_r.nii' \n",
        "label_3 = 'Patient2_left_label_r.nii'\n",
        "image_4 = 'patient4_right_image_r.nii'\n",
        "label_4 = 'patient4_right_label_r.nii' \n",
        "image_5 = 'DU07_images_r.nii' \n",
        "label_5 = 'DU07_labels_r.nii'\n",
        "image_6 = 'patient6_right_image_r.nii' \n",
        "label_6 = 'patient6_right_label_r.nii'\n",
        "image_7 = 'DU03_image_r.nii' \n",
        "label_7 = 'DU03_label_r.nii'\n",
        "image_8 = 'patient3_image_r.nii' \n",
        "label_8 = 'patient3_label_r.nii'"
      ],
      "execution_count": null,
      "outputs": []
    },
    {
      "cell_type": "code",
      "metadata": {
        "id": "DQHSdnyjFJy1"
      },
      "source": [
        "'''\n",
        "from dice_score import *\n",
        "from knee_init import *\n",
        "#from mdl_ex\n",
        "'''\n",
        "from net_new import *"
      ],
      "execution_count": null,
      "outputs": []
    },
    {
      "cell_type": "code",
      "metadata": {
        "id": "9EpH8AMLwPcc"
      },
      "source": [
        "\n",
        "#Training :\n",
        "image_1 = nib.load(os.path.join(data_dir,image_1)).get_fdata()[:, :, :, np.newaxis]\n",
        "label_1 = nib.load(os.path.join(data_dir,label_1)).get_fdata()#[:, :, :, np.newaxis]\n",
        "image_2 = nib.load(os.path.join(data_dir,image_2)).get_fdata()[:, :, :, np.newaxis]\n",
        "label_2 = nib.load(os.path.join(data_dir,label_2)).get_fdata()#[:, :, :, np.newaxis]\n",
        "\n",
        "image_3 = nib.load(os.path.join(data_dir,image_3)).get_fdata()[:, :, :, np.newaxis]\n",
        "label_3 = nib.load(os.path.join(data_dir,label_3)).get_fdata()#[:, :, :, np.newaxis]\n",
        "image_4 = nib.load(os.path.join(data_dir,image_4)).get_fdata()[:, :, :, np.newaxis]\n",
        "label_4 = nib.load(os.path.join(data_dir,label_4)).get_fdata()#[:, :, :, np.newaxis]\n",
        "image_5 = nib.load(os.path.join(data_dir,image_5)).get_fdata()[:, :, :, np.newaxis]\n",
        "label_5 = nib.load(os.path.join(data_dir,label_5)).get_fdata()#[:, :, :, np.newaxis]\n",
        "\n",
        "image_6 = nib.load(os.path.join(data_dir,image_6)).get_fdata()[:, :, :, np.newaxis]\n",
        "label_6 = nib.load(os.path.join(data_dir,label_6)).get_fdata()#[:, :, :, np.newaxis]\n",
        "image_7 = nib.load(os.path.join(data_dir,image_7)).get_fdata()[:, :, :, np.newaxis]\n",
        "label_7 = nib.load(os.path.join(data_dir,label_7)).get_fdata()#[:, :, :, np.newaxis]\n",
        "\n",
        "image_8 = nib.load(os.path.join(data_dir,image_8)).get_fdata()[:, :, :, np.newaxis]\n",
        "label_8 = nib.load(os.path.join(data_dir,label_8)).get_fdata()#[:, :, :, np.newaxis]"
      ],
      "execution_count": null,
      "outputs": []
    },
    {
      "cell_type": "code",
      "metadata": {
        "id": "ftap6oZptJYv"
      },
      "source": [
        "#changing the range from 0-255 to 0-1 for labels \n",
        "label_1 = (np.array(label_1) > 0).astype(np.int)   \n",
        "label_2 = (np.array(label_2) > 0).astype(np.int)\n",
        "label_3 = (np.array(label_3) > 0).astype(np.int)\n",
        "label_4 = (np.array(label_4) > 0).astype(np.int)   \n",
        "label_5 = (np.array(label_5) > 0).astype(np.int)\n",
        "label_6 = (np.array(label_6) > 0).astype(np.int)\n",
        "label_7 = (np.array(label_7) > 0).astype(np.int)\n",
        "label_8 = (np.array(label_8) > 0).astype(np.int)"
      ],
      "execution_count": null,
      "outputs": []
    },
    {
      "cell_type": "code",
      "metadata": {
        "id": "03ZnG7Sy-KqI"
      },
      "source": [
        "image_1 = torch.from_numpy(image_1)#.float()\n",
        "label_1 = torch.from_numpy(label_1)#.long()\n",
        "image_2 = torch.from_numpy(image_2)#.float()\n",
        "label_2 = torch.from_numpy(label_2)#.long()\n",
        "image_3 = torch.from_numpy(image_3)#.float()\n",
        "label_3 = torch.from_numpy(label_3)#.long()\n",
        "image_4 = torch.from_numpy(image_4)#.float()\n",
        "label_4 = torch.from_numpy(label_4)#.long()\n",
        "image_5 = torch.from_numpy(image_5)#.float()\n",
        "label_5 = torch.from_numpy(label_5)#.long()\n",
        "image_6 = torch.from_numpy(image_6)#.float()\n",
        "label_6 = torch.from_numpy(label_6)#.long(\n",
        "image_7 = torch.from_numpy(image_7)#.float()\n",
        "label_7 = torch.from_numpy(label_7)#.long()\n",
        "image_8 = torch.from_numpy(image_8)#.float()\n",
        "label_8 = torch.from_numpy(label_8)"
      ],
      "execution_count": null,
      "outputs": []
    },
    {
      "cell_type": "code",
      "metadata": {
        "id": "iHvmbOkax_Mc"
      },
      "source": [
        "image_1 = image_1.permute(3,0,1,2).unsqueeze(0)\n",
        "label_1 = label_1.unsqueeze(0)\n",
        "image_2 = image_2.permute(3,0,1,2).unsqueeze(0)\n",
        "label_2 = label_2.unsqueeze(0)\n",
        "image_3 = image_3.permute(3,0,1,2).unsqueeze(0)\n",
        "label_3 = label_3.unsqueeze(0)\n",
        "image_4 = image_4.permute(3,0,1,2).unsqueeze(0)\n",
        "label_4 = label_4.unsqueeze(0)\n",
        "image_5 = image_5.permute(3,0,1,2).unsqueeze(0)\n",
        "label_5 = label_5.unsqueeze(0)\n",
        "image_6 = image_6.permute(3,0,1,2).unsqueeze(0)\n",
        "label_6 = label_6.unsqueeze(0)\n",
        "image_7 = image_7.permute(3,0,1,2).unsqueeze(0)\n",
        "label_7 = label_7.unsqueeze(0)\n",
        "image_8 = image_8.permute(3,0,1,2).unsqueeze(0)\n",
        "label_8 = label_8.unsqueeze(0)"
      ],
      "execution_count": null,
      "outputs": []
    },
    {
      "cell_type": "code",
      "metadata": {
        "colab": {
          "base_uri": "https://localhost:8080/"
        },
        "id": "7udobnzGck1Z",
        "outputId": "cd5bdfcc-a630-4c4f-b53d-c7943759e356"
      },
      "source": [
        "print(label_6.shape)"
      ],
      "execution_count": null,
      "outputs": [
        {
          "output_type": "stream",
          "text": [
            "torch.Size([1, 135, 169, 67])\n"
          ],
          "name": "stdout"
        }
      ]
    },
    {
      "cell_type": "code",
      "metadata": {
        "id": "W4AF-1KOLtCU"
      },
      "source": [
        "class KneeDataset(Dataset):\n",
        "  \n",
        "    def __init__(self, images, labels,transform=None):\n",
        "        \"\"\"\n",
        "        Args:\n",
        "            #\n",
        "            root_dir (string): Directory with all the images.\n",
        "            transform (callable, optional): Optional transform to be applied\n",
        "                on a sample.\n",
        "        \"\"\"\n",
        "        #self.root_dir = root_dir\n",
        "        #self.label_dir = label_dir\n",
        "        \n",
        "        self.images = images\n",
        "        self.labels =  labels\n",
        "        self.transform = transform   \n",
        "        \n",
        "    def __len__(self):\n",
        "        #imgs_fname = [name for name in os.listdir(self.root_dir) if name.find('slice_')!=-1]\n",
        "        return self.images.shape[0]\n",
        "\n",
        "    def __getitem__(self,idx):\n",
        "        item =  {'image':self.images[idx],'label':self.labels[idx]}\n",
        "        \n",
        "\n",
        "        \n",
        "        if self.transform:\n",
        "            item = self.transform(item)\n",
        "        \n",
        "        return item\n"
      ],
      "execution_count": null,
      "outputs": []
    },
    {
      "cell_type": "code",
      "metadata": {
        "id": "lfCax2MlL0HO"
      },
      "source": [
        "def dice(outputs, labels, max_label):\n",
        "    dice = torch.FloatTensor(max_label-1).fill_(0)\n",
        "    for i in range(1, max_label):\n",
        "  \n",
        "      outputs = (outputs== i).view(-1).float()\n",
        "      labels =  (labels== i).view(-1).float()\n",
        "      intersect = torch.dot(outputs, labels)\n",
        "      union = torch.add(torch.sum(outputs), torch.sum(labels))\n",
        "      dice[i-1] = (2 * intersect+ 1e-5) / (union + 1e-5)\n",
        "    return dice\n",
        "\n",
        "\n",
        "'''def dice_coeff(outputs, labels, max_label):\n",
        "    dice = torch.FloatTensor(max_label-1).fill_(0)\n",
        "    for label_num in range(1, max_label):\n",
        "        iflat = (outputs==label_num).view(-1).float()\n",
        "        tflat = (labels==label_num).view(-1).float()\n",
        "        intersection = torch.mean(iflat * tflat)\n",
        "        dice[label_num-1] = (2. * intersection) / (1e-8 + torch.mean(iflat) + torch.mean(tflat))\n",
        "    return dice'''\n",
        "\n",
        "def augmentAffine(img_in, seg_in, strength=0.05):\n",
        "    B,C,H,W = img_in.size()\n",
        "    affine_matrix = (torch.eye(2,3).unsqueeze(0) + torch.randn(B, 2, 3) * strength).to(img_in.device)\n",
        "\n",
        "    meshgrid = F.affine_grid(affine_matrix,torch.Size((B,1,H,W)))\n",
        "\n",
        "    img_out = F.grid_sample(img_in, meshgrid,padding_mode='border')\n",
        "    seg_out = F.grid_sample(seg_in.float().unsqueeze(1), meshgrid, mode='nearest').long().squeeze(1)\n",
        "\n",
        "    return img_out, seg_out\n",
        "\n",
        "\n",
        "\n"
      ],
      "execution_count": null,
      "outputs": []
    },
    {
      "cell_type": "code",
      "metadata": {
        "colab": {
          "base_uri": "https://localhost:8080/"
        },
        "id": "Jahsk3f0xTIP",
        "outputId": "688fd16b-a4b9-499c-9f98-a5ba11adc236"
      },
      "source": [
        "transformed_train_dataset_1 = KneeDataset(image_1, label_1,\n",
        "                                        transform =None)\n",
        "transformed_train_dataset_2 = KneeDataset(image_2, label_2,\n",
        "                                        transform =None)\n",
        "transformed_train_dataset_3 = KneeDataset(image_3, label_3,\n",
        "                                       transform =None)\n",
        "transformed_train_dataset_4 = KneeDataset(image_4, label_4,\n",
        "                                        transform =None)\n",
        "transformed_train_dataset_5 = KneeDataset(image_7, label_7,\n",
        "                                       transform =None)\n",
        "transformed_train_dataset_6 = KneeDataset(image_8, label_8,\n",
        "                                        transform =None)\n",
        "\n",
        "transformed_valid_dataset_1 = KneeDataset(image_5, label_5,\n",
        "                                       transform=None)\n",
        "transformed_valid_dataset_2 = KneeDataset(image_6, label_6,\n",
        "                                      transform=None)\n",
        "transformed_train_dataset = torch.utils.data.ConcatDataset([transformed_train_dataset_1, transformed_train_dataset_2,\n",
        "                                                           transformed_train_dataset_3,transformed_train_dataset_4,\n",
        "                                                            transformed_train_dataset_5,transformed_train_dataset_6])\n",
        "transformed_valid_dataset = torch.utils.data.ConcatDataset([transformed_valid_dataset_1, transformed_valid_dataset_2])\n",
        "image_datasets = {'train':transformed_train_dataset,\n",
        "                  'valid':transformed_valid_dataset,\n",
        "                  }\n",
        "dataloaders_tmp = {'train' : torch.utils.data.DataLoader(image_datasets['train'], \n",
        "                                                        batch_size=2, shuffle = True, num_workers = 4),\n",
        "                  'valid': torch.utils.data.DataLoader(image_datasets['valid'], batch_size=2,\n",
        "                                             shuffle=True, num_workers=4),\n",
        "                  \n",
        "                  }\n",
        "\n",
        "dataset_sizes = {x: len(image_datasets[x]) for x in ['train','valid']}\n",
        "print(dataset_sizes)"
      ],
      "execution_count": null,
      "outputs": [
        {
          "output_type": "stream",
          "text": [
            "{'train': 6, 'valid': 2}\n"
          ],
          "name": "stdout"
        },
        {
          "output_type": "stream",
          "text": [
            "/usr/local/lib/python3.7/dist-packages/torch/utils/data/dataloader.py:477: UserWarning: This DataLoader will create 4 worker processes in total. Our suggested max number of worker in current system is 2, which is smaller than what this DataLoader is going to create. Please be aware that excessive worker creation might get DataLoader running slow or even freeze, lower the worker number to avoid potential slowness/freeze if necessary.\n",
            "  cpuset_checked))\n"
          ],
          "name": "stderr"
        }
      ]
    },
    {
      "cell_type": "code",
      "metadata": {
        "colab": {
          "base_uri": "https://localhost:8080/"
        },
        "id": "SfiCmewfxy-R",
        "outputId": "7e909216-b295-46e0-d849-726816596388"
      },
      "source": [
        "batch_tmp = next(iter(dataloaders_tmp['train']))\n",
        "inputs_tmp = batch_tmp['image']\n",
        "label_tmp = batch_tmp['label']\n",
        "print(inputs_tmp.shape) \n",
        "print(label_tmp.shape)\n"
      ],
      "execution_count": null,
      "outputs": [
        {
          "output_type": "stream",
          "text": [
            "/usr/local/lib/python3.7/dist-packages/torch/utils/data/dataloader.py:477: UserWarning: This DataLoader will create 4 worker processes in total. Our suggested max number of worker in current system is 2, which is smaller than what this DataLoader is going to create. Please be aware that excessive worker creation might get DataLoader running slow or even freeze, lower the worker number to avoid potential slowness/freeze if necessary.\n",
            "  cpuset_checked))\n"
          ],
          "name": "stderr"
        },
        {
          "output_type": "stream",
          "text": [
            "torch.Size([2, 1, 135, 169, 67])\n",
            "torch.Size([2, 135, 169, 67])\n"
          ],
          "name": "stdout"
        }
      ]
    },
    {
      "cell_type": "code",
      "metadata": {
        "colab": {
          "base_uri": "https://localhost:8080/"
        },
        "id": "gmx77dgk2URr",
        "outputId": "8c77aa21-2084-43f4-8629-0d747e6e8f37"
      },
      "source": [
        "batch_tmp = next(iter(dataloaders_tmp['valid']))\n",
        "inputs_tmp = batch_tmp['image']\n",
        "label_tmp = batch_tmp['label']\n",
        "print(inputs_tmp.shape)\n",
        "print(label_tmp.shape)"
      ],
      "execution_count": null,
      "outputs": [
        {
          "output_type": "stream",
          "text": [
            "/usr/local/lib/python3.7/dist-packages/torch/utils/data/dataloader.py:477: UserWarning: This DataLoader will create 4 worker processes in total. Our suggested max number of worker in current system is 2, which is smaller than what this DataLoader is going to create. Please be aware that excessive worker creation might get DataLoader running slow or even freeze, lower the worker number to avoid potential slowness/freeze if necessary.\n",
            "  cpuset_checked))\n"
          ],
          "name": "stderr"
        },
        {
          "output_type": "stream",
          "text": [
            "torch.Size([2, 1, 135, 169, 67])\n",
            "torch.Size([2, 135, 169, 67])\n"
          ],
          "name": "stdout"
        }
      ]
    },
    {
      "cell_type": "code",
      "metadata": {
        "id": "dPbMfPDGzcjB"
      },
      "source": [
        "class UNet_3d(nn.Module):\n",
        "  def __init__(self, input_channels =1, num_classes = 2):\n",
        "    super(UNet_3d, self).__init__()\n",
        "    self.input_channels = input_channels\n",
        "    \n",
        "    ####DOWNSAMPLING####\n",
        "    self.conv1 = Downconv(1, 32)\n",
        "\n",
        "    self.maxpool1 = nn.MaxPool3d(kernel_size =2)\n",
        "    self.conv2 = Downconv(32,64)\n",
        "    self.maxpool2 = nn.MaxPool3d(kernel_size =2)\n",
        "    self.conv3 = Downconv(64,128)\n",
        "    self.maxpool3 = nn.MaxPool3d(kernel_size =2)\n",
        "    self.conv4 = Downconv(128,256)\n",
        "    self.maxpool4 = nn.MaxPool3d(kernel_size =2)\n",
        "\n",
        "    self.conv5 = Downconv(256,512)\n",
        "\n",
        "\n",
        "    ####UPSAMPLINIG####\n",
        "    self.upconv4 = Upconv(512,256)\n",
        "    self.upconv3 = Upconv(256,128)\n",
        "    self.upconv2 = Upconv(128,64)\n",
        "    self.upconv1 = Upconv(64,32)\n",
        "\n",
        "    ####Final/Output####\n",
        "\n",
        "    self.output = output(32,num_classes)\n",
        "\n",
        "  def forward(self, inputs):\n",
        "     \n",
        "    \n",
        "    conv1 = self.conv1(inputs)\n",
        "    #print(\"conv1\", conv1.shape)\n",
        "    maxpool1 = self.maxpool1(conv1)\n",
        "\n",
        "    conv2 = self.conv2(maxpool1)\n",
        "    #print(\"conv2\", conv2.shape)\n",
        "    maxpool2 = self.maxpool2(conv2)\n",
        "\n",
        "    conv3 = self.conv3(maxpool2)\n",
        "    #print(\"conv3\", conv3.shape)\n",
        "    maxpool3 = self.maxpool3(conv3)\n",
        "\n",
        "    conv4 = self.conv4(maxpool3)\n",
        "    maxpool4 = self.maxpool4(conv4)\n",
        "\n",
        "    \n",
        "    center = self.conv5(maxpool4)    # final convolution of encoderpart without maxpool layer\n",
        "    #print(\"center\",conv4.shape) \n",
        "    up4 = self.upconv4(center,conv4)\n",
        "    #print(\"up4\", up4.shape)\n",
        "    up3 = self.upconv3(up4,conv3)\n",
        "    #print(\"up3\", up3.shape)\n",
        "    up2 = self.upconv2(up3,conv2)\n",
        "    up1 = self.upconv1(up2,conv1)\n",
        "\n",
        "    output = self.output(up1)      # output layer/ final layer \n",
        "\n",
        "    return output\n",
        "  @staticmethod\n",
        "  def apply_argmax_softmax(pred):\n",
        "    log_p = F.softmax(pred, dim=1)\n",
        "\n",
        "    return log_p"
      ],
      "execution_count": null,
      "outputs": []
    },
    {
      "cell_type": "code",
      "metadata": {
        "id": "cy8GYhFc298R"
      },
      "source": [
        "# initialise network weights\n",
        "def init_weights(m):\n",
        "    if isinstance(m, nn.Linear) or isinstance(m, nn.Conv3d) or isinstance(m, nn.ConvTranspose3d):\n",
        "        nn.init.kaiming_normal_(m.weight)\n",
        "        if m.bias is not None:\n",
        "            nn.init.constant_(m.bias, 0.0)"
      ],
      "execution_count": null,
      "outputs": []
    },
    {
      "cell_type": "code",
      "metadata": {
        "id": "U9od7g9HFY5k"
      },
      "source": [
        "criterion = nn.CrossEntropyLoss().cuda() ## Loss\n",
        "net = UNet_3d()\n",
        "net.apply(init_weights)\n",
        "net.cuda()\n",
        "\n",
        "total_epocs_var = 500 #500\n",
        "\n",
        "#print(countParameters(net))\n",
        "\n",
        "optimizer = optim.Adam(list(net.parameters()),lr=0.002)"
      ],
      "execution_count": null,
      "outputs": []
    },
    {
      "cell_type": "code",
      "metadata": {
        "colab": {
          "base_uri": "https://localhost:8080/"
        },
        "id": "9cF7hYgf8o6N",
        "outputId": "67b313a3-9d76-4257-a550-901ef3f2ec3e"
      },
      "source": [
        "train_loss = torch.zeros(total_epocs_var)/0\n",
        "val_loss = torch.zeros(total_epocs_var)/0\n",
        "dice1 = []  #torch.zeros(500)/0\n",
        "dice2 = 0\n",
        "dice3 =[]\n",
        "\n",
        "run_dice = []  #torch.zeros(500)/0\n",
        "run_dice2 = 0\n",
        "run_dice3 = []\n",
        "for epoch_i in range(total_epocs_var):\n",
        "    net.train()\n",
        "    train_loss[epoch_i] = 0.0\n",
        "    batch_dice_t = 0\n",
        "    batch_dice_mean_t = 0\n",
        "    i=0\n",
        "    \n",
        "           \n",
        "      ####MODEL EXPERIMENT####\n",
        "    for i, batch in enumerate(dataloaders_tmp['train']):\n",
        "    \n",
        "        optimizer.zero_grad()\n",
        "        inputs = batch['image'].float().cuda()\n",
        "        label = batch['label'].long().cuda()\n",
        "        #inputs,label = augmentAffine(inputs,label,0.075)      \n",
        "        output = net(inputs)\n",
        "        loss = criterion(output,label)\n",
        "        loss.backward()\n",
        "        optimizer.step() \n",
        "        train_loss[epoch_i] += loss.item()\n",
        "        d1 = dice(output.argmax(1), label,2)\n",
        "        batch_dice_t += d1\n",
        "        i = i +1\n",
        "        batch_dice_mean_t += d1.mean().cpu()\n",
        "\n",
        "    train_loss[epoch_i] /= i\n",
        "    batch_dice_t/=i\n",
        "    batch_dice_mean_t/=i\n",
        "    dice2+=batch_dice_t   \n",
        "    dice1.append(batch_dice_t)\n",
        "    dice3.append(batch_dice_mean_t)\n",
        "        \n",
        "    if(True):\n",
        "        net.eval()\n",
        "        with torch.no_grad():\n",
        "            val_loss[epoch_i] = 0.0\n",
        "            batch_dice = 0\n",
        "            batch_dice_mean = 0\n",
        "            i=0\n",
        "            \n",
        "            for i, batch in enumerate(dataloaders_tmp['valid']):\n",
        "                inputs_v = batch['image'].float().cuda()\n",
        "                label_v = batch['label'].long().cuda()\n",
        "                #inputs_v,label_v = augmentAffine(inputs_v,label_v,0.075)\n",
        "                output_v = net(inputs_v)\n",
        "                v_loss = criterion(output_v,label_v)\n",
        "                val_loss[epoch_i] += v_loss.item()\n",
        "                #scheduler_RLR.step(v_loss)\n",
        "                \n",
        "            \n",
        "                d1 = dice(output_v.argmax(1), label_v, 2)\n",
        "                \n",
        "                batch_dice += d1\n",
        "                i = i+1\n",
        "                batch_dice_mean += d1.mean().cpu()\n",
        "              \n",
        "            val_loss[epoch_i]/=i\n",
        "            batch_dice/=i\n",
        "            batch_dice_mean/=i\n",
        "            \n",
        "            run_dice2+=batch_dice\n",
        "            run_dice.append(batch_dice)\n",
        "            run_dice3.append(batch_dice_mean)\n",
        "            \n",
        "        if(epoch_i%25==5):\n",
        "            #print('Run Dice 2 All Labels Average',run_dice2/epoch_i)\n",
        "            print('epoch',epoch_i,'train loss',train_loss[epoch_i], 'val loss',val_loss[epoch_i],'dice train',dice3[epoch_i],'dice',run_dice3[epoch_i])\n",
        "            print('run_dice[epoch] Average',torch.tensor(run_dice3).float().mean())\n",
        "            \n",
        "print('Run Dice 2 All Labels Average Final',run_dice2/total_epocs_var)       \n",
        "            \n"
      ],
      "execution_count": null,
      "outputs": [
        {
          "output_type": "stream",
          "text": [
            "/usr/local/lib/python3.7/dist-packages/torch/utils/data/dataloader.py:477: UserWarning: This DataLoader will create 4 worker processes in total. Our suggested max number of worker in current system is 2, which is smaller than what this DataLoader is going to create. Please be aware that excessive worker creation might get DataLoader running slow or even freeze, lower the worker number to avoid potential slowness/freeze if necessary.\n",
            "  cpuset_checked))\n"
          ],
          "name": "stderr"
        }
      ]
    },
    {
      "cell_type": "code",
      "metadata": {
        "id": "OvCOQgub3GiP",
        "colab": {
          "base_uri": "https://localhost:8080/"
        },
        "outputId": "71c49a66-8955-4f3a-c0f7-f80e58a2432c"
      },
      "source": [
        "!nvidia-smi"
      ],
      "execution_count": null,
      "outputs": [
        {
          "output_type": "stream",
          "text": [
            "Thu Feb 25 14:13:35 2021       \n",
            "+-----------------------------------------------------------------------------+\n",
            "| NVIDIA-SMI 460.39       Driver Version: 460.32.03    CUDA Version: 11.2     |\n",
            "|-------------------------------+----------------------+----------------------+\n",
            "| GPU  Name        Persistence-M| Bus-Id        Disp.A | Volatile Uncorr. ECC |\n",
            "| Fan  Temp  Perf  Pwr:Usage/Cap|         Memory-Usage | GPU-Util  Compute M. |\n",
            "|                               |                      |               MIG M. |\n",
            "|===============================+======================+======================|\n",
            "|   0  Tesla T4            Off  | 00000000:00:04.0 Off |                    0 |\n",
            "| N/A   77C    P0    42W /  70W |  10640MiB / 15109MiB |    100%      Default |\n",
            "|                               |                      |                  N/A |\n",
            "+-------------------------------+----------------------+----------------------+\n",
            "                                                                               \n",
            "+-----------------------------------------------------------------------------+\n",
            "| Processes:                                                                  |\n",
            "|  GPU   GI   CI        PID   Type   Process name                  GPU Memory |\n",
            "|        ID   ID                                                   Usage      |\n",
            "|=============================================================================|\n",
            "+-----------------------------------------------------------------------------+\n"
          ],
          "name": "stdout"
        }
      ]
    },
    {
      "cell_type": "code",
      "metadata": {
        "id": "UgRUVauyTz28"
      },
      "source": [
        "  #Saving the model after training \n",
        "torch.save(net.train().cpu(),'/content/drive/MyDrive/Resampled_data/trained_3d1')\n",
        "torch.save(net.eval().cpu(),'/content/drive/MyDrive/Resampled_data/validated_3d1') #state_dict not required \n",
        "  # change the path depending on where you want to save in drive "
      ],
      "execution_count": null,
      "outputs": []
    },
    {
      "cell_type": "code",
      "metadata": {
        "colab": {
          "base_uri": "https://localhost:8080/",
          "height": 1000
        },
        "id": "rND6bTL6Uzdy",
        "outputId": "6badea67-1fae-4584-d81a-2bca09267959"
      },
      "source": [
        "# graphs for loss\n",
        "epoc=range(total_epocs_var)\n",
        "plt.plot(epoc,train_loss.cpu().numpy(),label='train_loss')\n",
        "plt.ylim(0,0.3)\n",
        "plt.legend()\n",
        "plt.title('Train Loss')\n",
        "plt.figure()\n",
        "plt.show()\n",
        "\n",
        "plt.plot(epoc,val_loss.cpu().numpy(),'r',label='valid_loss')\n",
        "plt.ylim(0,1)\n",
        "plt.legend()\n",
        "plt.title('Valid Loss')\n",
        "plt.figure()\n",
        "plt.show()\n",
        "\n",
        "plt.plot(epoc,dice3,label='Train Dice')\n",
        "#plt.plot(epoc,val_l,label='Val_loss')\n",
        "plt.legend()\n",
        "plt.title('Train Dice Loss')\n",
        "plt.figure()\n",
        "plt.show()\n",
        "\n",
        "\n",
        "plt.plot(epoc,run_dice3,'g',label='Valid Dice')\n",
        "#plt.plot(epoc,val_l,label='Val_loss')\n",
        "#plt.ylim(0.3,1)\n",
        "plt.legend()\n",
        "plt.title('Valid Dice Loss')\n",
        "plt.figure()\n",
        "plt.show()"
      ],
      "execution_count": null,
      "outputs": [
        {
          "output_type": "display_data",
          "data": {
            "image/png": "[encoded data removed]",
            "text/plain": [
              "<Figure size 432x288 with 1 Axes>"
            ]
          },
          "metadata": {
            "tags": [],
            "needs_background": "light"
          }
        },
        {
          "output_type": "display_data",
          "data": {
            "text/plain": [
              "<Figure size 432x288 with 0 Axes>"
            ]
          },
          "metadata": {
            "tags": []
          }
        },
        {
          "output_type": "display_data",
          "data": {
            "image/png": "[encoded data removed]",
            "text/plain": [
              "<Figure size 432x288 with 1 Axes>"
            ]
          },
          "metadata": {
            "tags": [],
            "needs_background": "light"
          }
        },
        {
          "output_type": "display_data",
          "data": {
            "text/plain": [
              "<Figure size 432x288 with 0 Axes>"
            ]
          },
          "metadata": {
            "tags": []
          }
        },
        {
          "output_type": "display_data",
          "data": {
            "image/png": "[encoded data removed]",
            "text/plain": [
              "<Figure size 432x288 with 1 Axes>"
            ]
          },
          "metadata": {
            "tags": [],
            "needs_background": "light"
          }
        },
        {
          "output_type": "display_data",
          "data": {
            "text/plain": [
              "<Figure size 432x288 with 0 Axes>"
            ]
          },
          "metadata": {
            "tags": []
          }
        },
        {
          "output_type": "display_data",
          "data": {
            "image/png": "[encoded data removed]",
            "text/plain": [
              "<Figure size 432x288 with 1 Axes>"
            ]
          },
          "metadata": {
            "tags": [],
            "needs_background": "light"
          }
        },
        {
          "output_type": "display_data",
          "data": {
            "text/plain": [
              "<Figure size 432x288 with 0 Axes>"
            ]
          },
          "metadata": {
            "tags": []
          }
        }
      ]
    },
    {
      "cell_type": "code",
      "metadata": {
        "id": "sUc8zhqboyU4"
      },
      "source": [
        ""
      ],
      "execution_count": null,
      "outputs": []
    }
  ]
}